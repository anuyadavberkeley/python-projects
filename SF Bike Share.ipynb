{
 "cells": [
  {
   "cell_type": "markdown",
   "metadata": {},
   "source": [
    "# San Francisco Bike Share\n",
    "\n",
    "Data analysis using Google Cloud Platform. \n",
    "\n",
    "In this notebook we examine the question:"
   ]
  },
  {
   "cell_type": "markdown",
   "metadata": {},
   "source": [
    "### What are the 5 most popular trips that you would call \"commuter trips\"?\n",
    "The five most popular commuter trips are the trips around peak usage times (7 - 10AM,  4 - 7PM, Monday - Friday) by subscribers (shown in the table in Question 6). In order to answer this question we first found the most popular times for go bike usage. We also determined whether subscribers or customers make more trips. Subscribers use the bikes more and it is likely that a commuter trip is made on a regular basis so it is more likely that a commuter trip is made by a subscriber. "
   ]
  },
  {
   "cell_type": "markdown",
   "metadata": {},
   "source": [
    "#### Findings\n",
    "1. PM trips are more popular than AM trips\n",
    "2. The busiest times of the day are 7 - 10 AM and 4 - 7 PM Monday through Friday(weekdays) (commuter hours)\n",
    "3. During these times the 5 most popular trips involved a caltrain stop and other public transportation. Most users appear to be leaving or heading to some form of public transportation with the bikes.\n",
    "4. December is the least usage of any month, indicating that when people go on holiday, ride usage falls. Commuters to the city are far fewer during this month. People who work in San Franscisco are big users and use the bikes for getting to and from work. \n",
    "5. Usage outside of these hours (7 - 10 AM and 4 - 7 PM) looks to be much lower and there doesn't appear to be much difference in usage between weekdays and weekends during during non-commuter hours.\n",
    "\n",
    "\n",
    "#### Recommendations for offers\n",
    "1. Advertise the Ford GoBike service in public transportation to encourage more people who are in the train or public transport to use it. \n",
    "2. Make it possible to pay for the Ford GoBike using the same form of payment as the public transport, making it easier for people to take or pay for the bike on an ad hoc basis. \n",
    "2. Provide incentive for people to use the bikes in December, for example reducing the price for customers during the holiday season. \n",
    "3. Make rides free at low usage times, weekends and early morning/late evening. This increases ridership and awareness of the Ford GoBikes and might cause more people to use it at other times."
   ]
  },
  {
   "cell_type": "code",
   "execution_count": 1,
   "metadata": {},
   "outputs": [],
   "source": [
    "import pandas as pd\n",
    "import matplotlib.pyplot as plt\n",
    "import seaborn as sns\n",
    "%matplotlib inline"
   ]
  },
  {
   "cell_type": "markdown",
   "metadata": {},
   "source": [
    "**Question 1: What is the frequency of the kinds of users' bike use? i.e. do Customers or Subscribers use the service more?**"
   ]
  },
  {
   "cell_type": "markdown",
   "metadata": {},
   "source": [
    "Answer: The number of Subscriber trips are 846839 and Customer trips are 136809. Subscriber's use it more."
   ]
  },
  {
   "cell_type": "code",
   "execution_count": 2,
   "metadata": {},
   "outputs": [
    {
     "name": "stdout",
     "output_type": "stream",
     "text": [
      "Waiting on bqjob_r137b429ec52dcaec_00000168d070a5ce_1 ... (0s) Current status: DONE   "
     ]
    }
   ],
   "source": [
    "#SQL query:\n",
    "\n",
    "!bq query --use_legacy_sql=false --format=csv ' \\\n",
    "        SELECT subscriber_type, count(subscriber_type) as number_of_trips \\\n",
    "        FROM \\\n",
    "           `bigquery-public-data.san_francisco.bikeshare_trips` \\\n",
    "        group by subscriber_type' > kinds_user.csv"
   ]
  },
  {
   "cell_type": "code",
   "execution_count": 3,
   "metadata": {},
   "outputs": [
    {
     "data": {
      "text/html": [
       "<div>\n",
       "<style scoped>\n",
       "    .dataframe tbody tr th:only-of-type {\n",
       "        vertical-align: middle;\n",
       "    }\n",
       "\n",
       "    .dataframe tbody tr th {\n",
       "        vertical-align: top;\n",
       "    }\n",
       "\n",
       "    .dataframe thead th {\n",
       "        text-align: right;\n",
       "    }\n",
       "</style>\n",
       "<table border=\"1\" class=\"dataframe\">\n",
       "  <thead>\n",
       "    <tr style=\"text-align: right;\">\n",
       "      <th></th>\n",
       "      <th>subscriber_type</th>\n",
       "      <th>number_of_trips</th>\n",
       "    </tr>\n",
       "  </thead>\n",
       "  <tbody>\n",
       "    <tr>\n",
       "      <th>0</th>\n",
       "      <td>Customer</td>\n",
       "      <td>136809</td>\n",
       "    </tr>\n",
       "    <tr>\n",
       "      <th>1</th>\n",
       "      <td>Subscriber</td>\n",
       "      <td>846839</td>\n",
       "    </tr>\n",
       "  </tbody>\n",
       "</table>\n",
       "</div>"
      ],
      "text/plain": [
       "  subscriber_type  number_of_trips\n",
       "0        Customer           136809\n",
       "1      Subscriber           846839"
      ]
     },
     "execution_count": 3,
     "metadata": {},
     "output_type": "execute_result"
    }
   ],
   "source": [
    "subscriber_type = pd.read_csv('kinds_user.csv')\n",
    "subscriber_type"
   ]
  },
  {
   "cell_type": "code",
   "execution_count": 18,
   "metadata": {},
   "outputs": [
    {
     "data": {
      "text/plain": [
       "<matplotlib.axes._subplots.AxesSubplot at 0x7f98a5f1cda0>"
      ]
     },
     "execution_count": 18,
     "metadata": {},
     "output_type": "execute_result"
    },
    {
     "data": {
      "image/png": "[encoded data removed]",
      "text/plain": [
       "<Figure size 432x288 with 1 Axes>"
      ]
     },
     "metadata": {},
     "output_type": "display_data"
    }
   ],
   "source": [
    "subscriber_type.plot.bar(x='subscriber_type', y='number_of_trips')"
   ]
  },
  {
   "cell_type": "markdown",
   "metadata": {},
   "source": [
    "**Question 2: What are the top 5 routes (pair of stations) are most popular for subscriber_type Customer?**"
   ]
  },
  {
   "cell_type": "markdown",
   "metadata": {},
   "source": [
    "Answer: See table of results below. Note that the Ferry building and Embarcadero appear to be popular stations."
   ]
  },
  {
   "cell_type": "code",
   "execution_count": 5,
   "metadata": {},
   "outputs": [
    {
     "name": "stdout",
     "output_type": "stream",
     "text": [
      "Waiting on bqjob_r7be1e7ed6cb83a7f_00000168d070ac74_1 ... (0s) Current status: DONE   "
     ]
    }
   ],
   "source": [
    "#SQL query:\n",
    "\n",
    "!bq query --use_legacy_sql=false --format=csv '\\\n",
    "SELECT start_station_name, end_station_name, COUNT(*) AS number_of_trips \\\n",
    "FROM `bigquery-public-data.san_francisco.bikeshare_trips` \\\n",
    "group by subscriber_type, start_station_name, end_station_name \\\n",
    "having subscriber_type = \"Customer\" \\\n",
    "order by number_of_trips desc limit 5'> result.csv"
   ]
  },
  {
   "cell_type": "code",
   "execution_count": 6,
   "metadata": {},
   "outputs": [
    {
     "data": {
      "text/html": [
       "<div>\n",
       "<style scoped>\n",
       "    .dataframe tbody tr th:only-of-type {\n",
       "        vertical-align: middle;\n",
       "    }\n",
       "\n",
       "    .dataframe tbody tr th {\n",
       "        vertical-align: top;\n",
       "    }\n",
       "\n",
       "    .dataframe thead th {\n",
       "        text-align: right;\n",
       "    }\n",
       "</style>\n",
       "<table border=\"1\" class=\"dataframe\">\n",
       "  <thead>\n",
       "    <tr style=\"text-align: right;\">\n",
       "      <th></th>\n",
       "      <th>start_station_name</th>\n",
       "      <th>end_station_name</th>\n",
       "      <th>number_of_trips</th>\n",
       "    </tr>\n",
       "  </thead>\n",
       "  <tbody>\n",
       "    <tr>\n",
       "      <th>0</th>\n",
       "      <td>Harry Bridges Plaza (Ferry Building)</td>\n",
       "      <td>Embarcadero at Sansome</td>\n",
       "      <td>3667</td>\n",
       "    </tr>\n",
       "    <tr>\n",
       "      <th>1</th>\n",
       "      <td>Embarcadero at Sansome</td>\n",
       "      <td>Embarcadero at Sansome</td>\n",
       "      <td>2545</td>\n",
       "    </tr>\n",
       "    <tr>\n",
       "      <th>2</th>\n",
       "      <td>Harry Bridges Plaza (Ferry Building)</td>\n",
       "      <td>Harry Bridges Plaza (Ferry Building)</td>\n",
       "      <td>2004</td>\n",
       "    </tr>\n",
       "    <tr>\n",
       "      <th>3</th>\n",
       "      <td>Embarcadero at Sansome</td>\n",
       "      <td>Harry Bridges Plaza (Ferry Building)</td>\n",
       "      <td>1638</td>\n",
       "    </tr>\n",
       "    <tr>\n",
       "      <th>4</th>\n",
       "      <td>Embarcadero at Vallejo</td>\n",
       "      <td>Embarcadero at Sansome</td>\n",
       "      <td>1345</td>\n",
       "    </tr>\n",
       "  </tbody>\n",
       "</table>\n",
       "</div>"
      ],
      "text/plain": [
       "                     start_station_name                      end_station_name  \\\n",
       "0  Harry Bridges Plaza (Ferry Building)                Embarcadero at Sansome   \n",
       "1                Embarcadero at Sansome                Embarcadero at Sansome   \n",
       "2  Harry Bridges Plaza (Ferry Building)  Harry Bridges Plaza (Ferry Building)   \n",
       "3                Embarcadero at Sansome  Harry Bridges Plaza (Ferry Building)   \n",
       "4                Embarcadero at Vallejo                Embarcadero at Sansome   \n",
       "\n",
       "   number_of_trips  \n",
       "0             3667  \n",
       "1             2545  \n",
       "2             2004  \n",
       "3             1638  \n",
       "4             1345  "
      ]
     },
     "execution_count": 6,
     "metadata": {},
     "output_type": "execute_result"
    }
   ],
   "source": [
    "top_customer_route = pd.read_csv('result.csv')\n",
    "top_customer_route"
   ]
  },
  {
   "cell_type": "markdown",
   "metadata": {},
   "source": [
    "**Question 3: What are the top 5 routes (pair of stations) are most popular for subscriber_type Subscriber?**"
   ]
  },
  {
   "cell_type": "markdown",
   "metadata": {},
   "source": [
    " Answer: Answer in table below. There appear to be some more public transport locations here (caltrain)"
   ]
  },
  {
   "cell_type": "code",
   "execution_count": 7,
   "metadata": {},
   "outputs": [
    {
     "name": "stdout",
     "output_type": "stream",
     "text": [
      "Waiting on bqjob_r6e5c45d284acc007_00000168d070b222_1 ... (0s) Current status: DONE   "
     ]
    }
   ],
   "source": [
    "#SQL query:\n",
    "\n",
    "!bq query --use_legacy_sql=false --format=csv '\\\n",
    "SELECT subscriber_type, start_station_name, end_station_name, count(*) AS number_of_trips \\\n",
    "  FROM `bigquery-public-data.san_francisco.bikeshare_trips` \\\n",
    "  where subscriber_type = \"Subscriber\" \\\n",
    "  group by subscriber_type, start_station_name, end_station_name \\\n",
    "  order by number_of_trips desc \\\n",
    "  limit 5' > top_subscriber.csv"
   ]
  },
  {
   "cell_type": "code",
   "execution_count": 8,
   "metadata": {},
   "outputs": [
    {
     "data": {
      "text/html": [
       "<div>\n",
       "<style scoped>\n",
       "    .dataframe tbody tr th:only-of-type {\n",
       "        vertical-align: middle;\n",
       "    }\n",
       "\n",
       "    .dataframe tbody tr th {\n",
       "        vertical-align: top;\n",
       "    }\n",
       "\n",
       "    .dataframe thead th {\n",
       "        text-align: right;\n",
       "    }\n",
       "</style>\n",
       "<table border=\"1\" class=\"dataframe\">\n",
       "  <thead>\n",
       "    <tr style=\"text-align: right;\">\n",
       "      <th></th>\n",
       "      <th>subscriber_type</th>\n",
       "      <th>start_station_name</th>\n",
       "      <th>end_station_name</th>\n",
       "      <th>number_of_trips</th>\n",
       "    </tr>\n",
       "  </thead>\n",
       "  <tbody>\n",
       "    <tr>\n",
       "      <th>0</th>\n",
       "      <td>Subscriber</td>\n",
       "      <td>San Francisco Caltrain 2 (330 Townsend)</td>\n",
       "      <td>Townsend at 7th</td>\n",
       "      <td>8305</td>\n",
       "    </tr>\n",
       "    <tr>\n",
       "      <th>1</th>\n",
       "      <td>Subscriber</td>\n",
       "      <td>2nd at Townsend</td>\n",
       "      <td>Harry Bridges Plaza (Ferry Building)</td>\n",
       "      <td>6931</td>\n",
       "    </tr>\n",
       "    <tr>\n",
       "      <th>2</th>\n",
       "      <td>Subscriber</td>\n",
       "      <td>Townsend at 7th</td>\n",
       "      <td>San Francisco Caltrain 2 (330 Townsend)</td>\n",
       "      <td>6641</td>\n",
       "    </tr>\n",
       "    <tr>\n",
       "      <th>3</th>\n",
       "      <td>Subscriber</td>\n",
       "      <td>Harry Bridges Plaza (Ferry Building)</td>\n",
       "      <td>2nd at Townsend</td>\n",
       "      <td>6332</td>\n",
       "    </tr>\n",
       "    <tr>\n",
       "      <th>4</th>\n",
       "      <td>Subscriber</td>\n",
       "      <td>Embarcadero at Sansome</td>\n",
       "      <td>Steuart at Market</td>\n",
       "      <td>6200</td>\n",
       "    </tr>\n",
       "  </tbody>\n",
       "</table>\n",
       "</div>"
      ],
      "text/plain": [
       "  subscriber_type                       start_station_name  \\\n",
       "0      Subscriber  San Francisco Caltrain 2 (330 Townsend)   \n",
       "1      Subscriber                          2nd at Townsend   \n",
       "2      Subscriber                          Townsend at 7th   \n",
       "3      Subscriber     Harry Bridges Plaza (Ferry Building)   \n",
       "4      Subscriber                   Embarcadero at Sansome   \n",
       "\n",
       "                          end_station_name  number_of_trips  \n",
       "0                          Townsend at 7th             8305  \n",
       "1     Harry Bridges Plaza (Ferry Building)             6931  \n",
       "2  San Francisco Caltrain 2 (330 Townsend)             6641  \n",
       "3                          2nd at Townsend             6332  \n",
       "4                        Steuart at Market             6200  "
      ]
     },
     "execution_count": 8,
     "metadata": {},
     "output_type": "execute_result"
    }
   ],
   "source": [
    "top_subscriber_route = pd.read_csv('top_subscriber.csv')\n",
    "top_subscriber_route"
   ]
  },
  {
   "cell_type": "markdown",
   "metadata": {},
   "source": [
    "**Question 4: For which month do we see lowest number of bike rides?**"
   ]
  },
  {
   "cell_type": "markdown",
   "metadata": {},
   "source": [
    "Answer: Least popular month is **December**."
   ]
  },
  {
   "cell_type": "code",
   "execution_count": 9,
   "metadata": {},
   "outputs": [
    {
     "name": "stdout",
     "output_type": "stream",
     "text": [
      "Waiting on bqjob_r3b71e76839d6b9c3_00000168d070b78a_1 ... (0s) Current status: DONE   "
     ]
    }
   ],
   "source": [
    "!bq query --use_legacy_sql=false --format=csv '\\\n",
    "  SELECT extract(month from start_date) as month, COUNT(*) AS number_of_trips \\\n",
    "  FROM `bigquery-public-data.san_francisco.bikeshare_trips` \\\n",
    "  group by month \\\n",
    "  order by number_of_trips asc \\\n",
    "  limit 1' > bike_usuage.csv"
   ]
  },
  {
   "cell_type": "code",
   "execution_count": 10,
   "metadata": {},
   "outputs": [
    {
     "data": {
      "text/html": [
       "<div>\n",
       "<style scoped>\n",
       "    .dataframe tbody tr th:only-of-type {\n",
       "        vertical-align: middle;\n",
       "    }\n",
       "\n",
       "    .dataframe tbody tr th {\n",
       "        vertical-align: top;\n",
       "    }\n",
       "\n",
       "    .dataframe thead th {\n",
       "        text-align: right;\n",
       "    }\n",
       "</style>\n",
       "<table border=\"1\" class=\"dataframe\">\n",
       "  <thead>\n",
       "    <tr style=\"text-align: right;\">\n",
       "      <th></th>\n",
       "      <th>month</th>\n",
       "      <th>number_of_trips</th>\n",
       "    </tr>\n",
       "  </thead>\n",
       "  <tbody>\n",
       "    <tr>\n",
       "      <th>0</th>\n",
       "      <td>12</td>\n",
       "      <td>57961</td>\n",
       "    </tr>\n",
       "  </tbody>\n",
       "</table>\n",
       "</div>"
      ],
      "text/plain": [
       "   month  number_of_trips\n",
       "0     12            57961"
      ]
     },
     "execution_count": 10,
     "metadata": {},
     "output_type": "execute_result"
    }
   ],
   "source": [
    "lowest_bikerides = pd.read_csv('bike_usuage.csv')\n",
    "lowest_bikerides"
   ]
  },
  {
   "cell_type": "markdown",
   "metadata": {},
   "source": [
    "**Question 5: what are the most popular hour-day combination for bike usage?**"
   ]
  },
  {
   "cell_type": "markdown",
   "metadata": {},
   "source": [
    "Answer: Most popular hours are 8 AM and 5 PM, Monday through Friday."
   ]
  },
  {
   "cell_type": "code",
   "execution_count": 11,
   "metadata": {},
   "outputs": [
    {
     "name": "stdout",
     "output_type": "stream",
     "text": [
      "Waiting on bqjob_r2a7c0a76bef9e1bc_00000168d070bd0c_1 ... (0s) Current status: DONE   "
     ]
    }
   ],
   "source": [
    "#SQL query:\n",
    "\n",
    "!bq query --use_legacy_sql=false --format=csv '\\\n",
    "SELECT extract(hour from start_date) as time, extract(dayofweek from start_date) as day, COUNT(*) AS number_of_trips \\\n",
    "FROM `bigquery-public-data.san_francisco.bikeshare_trips` \\\n",
    "group by day, time \\\n",
    "order by number_of_trips desc \\\n",
    "limit 10' > time.csv"
   ]
  },
  {
   "cell_type": "code",
   "execution_count": 12,
   "metadata": {},
   "outputs": [
    {
     "data": {
      "text/html": [
       "<div>\n",
       "<style scoped>\n",
       "    .dataframe tbody tr th:only-of-type {\n",
       "        vertical-align: middle;\n",
       "    }\n",
       "\n",
       "    .dataframe tbody tr th {\n",
       "        vertical-align: top;\n",
       "    }\n",
       "\n",
       "    .dataframe thead th {\n",
       "        text-align: right;\n",
       "    }\n",
       "</style>\n",
       "<table border=\"1\" class=\"dataframe\">\n",
       "  <thead>\n",
       "    <tr style=\"text-align: right;\">\n",
       "      <th></th>\n",
       "      <th>time</th>\n",
       "      <th>day</th>\n",
       "      <th>number_of_trips</th>\n",
       "    </tr>\n",
       "  </thead>\n",
       "  <tbody>\n",
       "    <tr>\n",
       "      <th>0</th>\n",
       "      <td>8</td>\n",
       "      <td>3</td>\n",
       "      <td>28138</td>\n",
       "    </tr>\n",
       "    <tr>\n",
       "      <th>1</th>\n",
       "      <td>8</td>\n",
       "      <td>4</td>\n",
       "      <td>27043</td>\n",
       "    </tr>\n",
       "    <tr>\n",
       "      <th>2</th>\n",
       "      <td>8</td>\n",
       "      <td>5</td>\n",
       "      <td>26014</td>\n",
       "    </tr>\n",
       "    <tr>\n",
       "      <th>3</th>\n",
       "      <td>17</td>\n",
       "      <td>3</td>\n",
       "      <td>25458</td>\n",
       "    </tr>\n",
       "    <tr>\n",
       "      <th>4</th>\n",
       "      <td>8</td>\n",
       "      <td>2</td>\n",
       "      <td>25443</td>\n",
       "    </tr>\n",
       "    <tr>\n",
       "      <th>5</th>\n",
       "      <td>17</td>\n",
       "      <td>2</td>\n",
       "      <td>24706</td>\n",
       "    </tr>\n",
       "    <tr>\n",
       "      <th>6</th>\n",
       "      <td>17</td>\n",
       "      <td>4</td>\n",
       "      <td>24650</td>\n",
       "    </tr>\n",
       "    <tr>\n",
       "      <th>7</th>\n",
       "      <td>17</td>\n",
       "      <td>5</td>\n",
       "      <td>23312</td>\n",
       "    </tr>\n",
       "    <tr>\n",
       "      <th>8</th>\n",
       "      <td>8</td>\n",
       "      <td>6</td>\n",
       "      <td>22361</td>\n",
       "    </tr>\n",
       "    <tr>\n",
       "      <th>9</th>\n",
       "      <td>17</td>\n",
       "      <td>6</td>\n",
       "      <td>20206</td>\n",
       "    </tr>\n",
       "  </tbody>\n",
       "</table>\n",
       "</div>"
      ],
      "text/plain": [
       "   time  day  number_of_trips\n",
       "0     8    3            28138\n",
       "1     8    4            27043\n",
       "2     8    5            26014\n",
       "3    17    3            25458\n",
       "4     8    2            25443\n",
       "5    17    2            24706\n",
       "6    17    4            24650\n",
       "7    17    5            23312\n",
       "8     8    6            22361\n",
       "9    17    6            20206"
      ]
     },
     "execution_count": 12,
     "metadata": {},
     "output_type": "execute_result"
    }
   ],
   "source": [
    "time_bike = pd.read_csv('time.csv')\n",
    "time_bike"
   ]
  },
  {
   "cell_type": "markdown",
   "metadata": {},
   "source": [
    "Pulling all data for day-time combinations and producing a heatmap of hourly usage to get a sense of how much variation in usage there is outside of peak times. Also to determine whether other times should be considered commuter hours."
   ]
  },
  {
   "cell_type": "code",
   "execution_count": 13,
   "metadata": {},
   "outputs": [
    {
     "name": "stdout",
     "output_type": "stream",
     "text": [
      "Waiting on bqjob_r4ff487bd121f9cf8_00000168d070c283_1 ... (0s) Current status: DONE   "
     ]
    }
   ],
   "source": [
    "!bq query --max_rows=1000 --use_legacy_sql=false --format=csv '\\\n",
    "SELECT extract(hour from start_date) as time, extract(dayofweek from start_date) as day, COUNT(*) AS count \\\n",
    "FROM `bigquery-public-data.san_francisco.bikeshare_trips` \\\n",
    "group by day, time \\\n",
    "order by count desc' > time_all.csv"
   ]
  },
  {
   "cell_type": "code",
   "execution_count": 14,
   "metadata": {},
   "outputs": [],
   "source": [
    "time_all_bike = pd.read_csv('time_all.csv')"
   ]
  },
  {
   "cell_type": "code",
   "execution_count": 15,
   "metadata": {},
   "outputs": [
    {
     "data": {
      "image/png": "[encoded data removed]",
      "text/plain": [
       "<Figure size 576x432 with 2 Axes>"
      ]
     },
     "metadata": {},
     "output_type": "display_data"
    }
   ],
   "source": [
    "encode_day = ['Sunday', 'Monday', 'Tuesday', 'Wednesday', 'Thursday', 'Friday', 'Saturday']\n",
    "time_all_bike['dayname'] = time_all_bike['day'].apply(lambda x: encode_day[x-1])\n",
    "time_all_bike.sort_values(['day', 'time'], inplace = True)\n",
    "grid = time_all_bike.pivot_table(index = 'day', columns='time')\n",
    "grid.columns = range(24)\n",
    "grid.index = [encode_day[i-1] for i in list(grid.index)]\n",
    "p = sns.heatmap(grid, linewidths=.5, cmap='Blues')\n",
    "p.set_xlabel('Hour of the day')\n",
    "p.set_ylabel('Day of the week')\n",
    "p.set_title(\"GoBike usage during the week\")\n",
    "fig = p.figure\n",
    "fig.set_size_inches(8,6)"
   ]
  },
  {
   "cell_type": "markdown",
   "metadata": {},
   "source": [
    "Chart shows the heatmap of rides by day and hour of the day. It shows that commuters use the service very heavily between 7 - 10 AM and 4 - 7 PM, Monday to Friday. "
   ]
  },
  {
   "cell_type": "markdown",
   "metadata": {},
   "source": [
    "**Question 6. What are the most popular trips around peak usage times (7 - 10AM,  4 - 7PM, Monday - Friday) by subscribers?**"
   ]
  },
  {
   "cell_type": "markdown",
   "metadata": {},
   "source": [
    "Answer: Table below shows the results. "
   ]
  },
  {
   "cell_type": "code",
   "execution_count": 16,
   "metadata": {},
   "outputs": [
    {
     "name": "stdout",
     "output_type": "stream",
     "text": [
      "Waiting on bqjob_r184889749f23f3d_00000168d070c9a5_1 ... (0s) Current status: DONE   "
     ]
    }
   ],
   "source": [
    "!bq query --use_legacy_sql=false --format=csv ' \\\n",
    "SELECT start_station_name, end_station_name, COUNT(*) AS number_of_trips \\\n",
    "  FROM `bigquery-public-data.san_francisco.bikeshare_trips` \\\n",
    "  where subscriber_type = \"Subscriber\" \\\n",
    "  and extract(hour from start_date) in (7,8,9, 16,17, 18) \\\n",
    "  and extract(dayofweek from start_date) in (2,3,4,5,6) \\\n",
    "  group by start_station_name, end_station_name \\\n",
    "  order by number_of_trips desc \\\n",
    "  limit 5'> popular_trips.csv"
   ]
  },
  {
   "cell_type": "code",
   "execution_count": 17,
   "metadata": {},
   "outputs": [
    {
     "data": {
      "text/html": [
       "<div>\n",
       "<style scoped>\n",
       "    .dataframe tbody tr th:only-of-type {\n",
       "        vertical-align: middle;\n",
       "    }\n",
       "\n",
       "    .dataframe tbody tr th {\n",
       "        vertical-align: top;\n",
       "    }\n",
       "\n",
       "    .dataframe thead th {\n",
       "        text-align: right;\n",
       "    }\n",
       "</style>\n",
       "<table border=\"1\" class=\"dataframe\">\n",
       "  <thead>\n",
       "    <tr style=\"text-align: right;\">\n",
       "      <th></th>\n",
       "      <th>start_station_name</th>\n",
       "      <th>end_station_name</th>\n",
       "      <th>number_of_trips</th>\n",
       "    </tr>\n",
       "  </thead>\n",
       "  <tbody>\n",
       "    <tr>\n",
       "      <th>0</th>\n",
       "      <td>2nd at Townsend</td>\n",
       "      <td>Harry Bridges Plaza (Ferry Building)</td>\n",
       "      <td>5034</td>\n",
       "    </tr>\n",
       "    <tr>\n",
       "      <th>1</th>\n",
       "      <td>Harry Bridges Plaza (Ferry Building)</td>\n",
       "      <td>2nd at Townsend</td>\n",
       "      <td>4973</td>\n",
       "    </tr>\n",
       "    <tr>\n",
       "      <th>2</th>\n",
       "      <td>San Francisco Caltrain 2 (330 Townsend)</td>\n",
       "      <td>Townsend at 7th</td>\n",
       "      <td>4958</td>\n",
       "    </tr>\n",
       "    <tr>\n",
       "      <th>3</th>\n",
       "      <td>Embarcadero at Sansome</td>\n",
       "      <td>Steuart at Market</td>\n",
       "      <td>4689</td>\n",
       "    </tr>\n",
       "    <tr>\n",
       "      <th>4</th>\n",
       "      <td>Embarcadero at Folsom</td>\n",
       "      <td>San Francisco Caltrain (Townsend at 4th)</td>\n",
       "      <td>4686</td>\n",
       "    </tr>\n",
       "  </tbody>\n",
       "</table>\n",
       "</div>"
      ],
      "text/plain": [
       "                        start_station_name  \\\n",
       "0                          2nd at Townsend   \n",
       "1     Harry Bridges Plaza (Ferry Building)   \n",
       "2  San Francisco Caltrain 2 (330 Townsend)   \n",
       "3                   Embarcadero at Sansome   \n",
       "4                    Embarcadero at Folsom   \n",
       "\n",
       "                           end_station_name  number_of_trips  \n",
       "0      Harry Bridges Plaza (Ferry Building)             5034  \n",
       "1                           2nd at Townsend             4973  \n",
       "2                           Townsend at 7th             4958  \n",
       "3                         Steuart at Market             4689  \n",
       "4  San Francisco Caltrain (Townsend at 4th)             4686  "
      ]
     },
     "execution_count": 17,
     "metadata": {},
     "output_type": "execute_result"
    }
   ],
   "source": [
    "commuter_trips = pd.read_csv('popular_trips.csv')\n",
    "commuter_trips"
   ]
  }
 ],
 "metadata": {
  "kernelspec": {
   "display_name": "Python 3",
   "language": "python",
   "name": "python3"
  },
  "language_info": {
   "codemirror_mode": {
    "name": "ipython",
    "version": 3
   },
   "file_extension": ".py",
   "mimetype": "text/x-python",
   "name": "python",
   "nbconvert_exporter": "python",
   "pygments_lexer": "ipython3",
   "version": "3.6.8"
  }
 },
 "nbformat": 4,
 "nbformat_minor": 2
}
